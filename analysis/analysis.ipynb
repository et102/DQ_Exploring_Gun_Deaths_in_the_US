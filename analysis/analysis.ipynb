{
 "cells": [
  {
   "cell_type": "markdown",
   "metadata": {},
   "source": [
    "# US gun deaths correlation\n",
    "\n",
    "### TODO:\n",
    "1. add option to plotter for labeling only sensor hits by time\n",
    "2. add option to filt by blocks_observed when total time is divided into n_blocks\n",
    "3. Explore the homicide rate by gender.\n",
    "4. Get familiar with list comprehension, mapping, and dattime funcation\n"
   ]
  },
  {
   "cell_type": "code",
   "execution_count": null,
   "metadata": {},
   "outputs": [],
   "source": [
    "import csv\n",
    "\n",
    "f = open(\"../data/guns.csv\",\"r\")\n",
    "\n",
    "# call csv module's function reader\n",
    "csvreader = csv.reader(f)\n",
    "# conver result to list\n",
    "data = list(csvreader)\n",
    "\n",
    "#print(data[0:5])\n",
    "\n",
    "fc = open(\"../data/census.csv\",\"r\")\n",
    "# call csv module's function reader\n",
    "csvreader = csv.reader(fc)\n",
    "# conver result to list\n",
    "census = list(csvreader)\n",
    "\n",
    "#print(census)\n",
    "\n"
   ]
  },
  {
   "cell_type": "code",
   "execution_count": 28,
   "metadata": {},
   "outputs": [],
   "source": [
    "## Removing headers From A List Of Lists\n",
    "headers = data[0]\n",
    "data.remove(data[0])\n",
    "#print(data[0:5])\n"
   ]
  },
  {
   "cell_type": "code",
   "execution_count": 29,
   "metadata": {},
   "outputs": [
    {
     "name": "stdout",
     "output_type": "stream",
     "text": [
      "{'2012': 33563, '2013': 33636, '2014': 33599}\n"
     ]
    }
   ],
   "source": [
    "## calculate how many gun deaths happened in each year, year_counts\n",
    "\n",
    "year_counts = {}\n",
    "\n",
    "# loop through each row in year column \n",
    "for row in data:\n",
    "    year = row[1]\n",
    "# value assignment in dictionary     \n",
    "    if year in year_counts:\n",
    "        year_counts[year] +=1\n",
    "    else:\n",
    "        year_counts[year] = 1\n",
    "    \n",
    "#print(year_counts)"
   ]
  },
  {
   "cell_type": "code",
   "execution_count": 47,
   "metadata": {},
   "outputs": [],
   "source": [
    "## no apparent changes in year, so we look in date and print date_counts\n",
    "\n",
    "# import datetime module\n",
    "from datetime import datetime\n",
    "\n",
    "dates = []\n",
    "\n",
    "# creating instance of datetime class by iterating through data\n",
    "for row in data:\n",
    "    year = int(row[1])\n",
    "    mon = int(row[2])\n",
    "    day = 1\n",
    "    date = datetime(year, mon, day)\n",
    "    dates.append(date)\n",
    " \n",
    "#print(dates[0:5])\n",
    "\n",
    "\n",
    "date_counts = {}\n",
    "\n",
    "# loop through each row in year column \n",
    "for date in dates:\n",
    "# value assignment in dictionary     \n",
    "    if date in date_counts:\n",
    "        date_counts[date] +=1\n",
    "    else:\n",
    "        date_counts[date] = 1\n",
    "        \n",
    "#print(date_counts)"
   ]
  },
  {
   "cell_type": "code",
   "execution_count": 53,
   "metadata": {},
   "outputs": [],
   "source": [
    "## sex and gender relationship with gun deaths, sex_count & gender_count\n",
    "\n",
    "sex_counts = {}\n",
    "race_counts = {}\n",
    "\n",
    "# loop through each row in year column \n",
    "for row in data:\n",
    "    sex = row[5]\n",
    "    race = row[7]\n",
    "# value assignment in dictionary     \n",
    "    if sex in sex_counts:\n",
    "        sex_counts[sex] +=1\n",
    "    else:\n",
    "        sex_counts[sex] = 1\n",
    "    if race in race_counts:\n",
    "        race_counts[race] +=1\n",
    "    else:\n",
    "        race_counts[race] = 1\n",
    "        \n",
    "#print(sex_counts)\n",
    "#print(race_counts)\n",
    "  \n",
    "\n",
    "\n"
   ]
  },
  {
   "cell_type": "code",
   "execution_count": 102,
   "metadata": {},
   "outputs": [
    {
     "data": {
      "text/plain": [
       "{'Asian/Pacific Islander': 8.374309664161762,\n",
       " 'Black': 57.8773477735196,\n",
       " 'Hispanic': 20.220491210910907,\n",
       " 'Native American/Native Alaskan': 24.521955573811088,\n",
       " 'White': 33.56849303419181}"
      ]
     },
     "execution_count": 102,
     "metadata": {},
     "output_type": "execute_result"
    }
   ],
   "source": [
    "# Computing death rate Of Gun Deaths Per Race\n",
    "\n",
    "mapping = {\n",
    "    \"Asian/Pacific Islander\": 15159516 + 674625,\n",
    "    \"Native American/Native Alaskan\": 3739506,\n",
    "    \"Black\": 40250635,\n",
    "    \"Hispanic\": 44618105,\n",
    "    \"White\": 197318956\n",
    "}\n",
    "\n",
    "# the number is so small that 10000 is multipled to show \"deaths/10000 persons\"\n",
    "\n",
    "race_per_hundredk = {}\n",
    "for k,v in race_counts.items():\n",
    "    race_per_hundredk[k] = (v / mapping[k]) * 100000\n",
    "\n",
    "#race_per_hundredk"
   ]
  },
  {
   "cell_type": "code",
   "execution_count": 105,
   "metadata": {},
   "outputs": [],
   "source": [
    "## filter with intent: homicide\n",
    "# enumerate is used for cross-mapping two lists\n",
    "\n",
    "# extract intent data to create intents list\n",
    "for row in data:\n",
    "    intents.append(row[3]) \n",
    "#intents = [row[3] for row in data]\n",
    "    \n",
    "# counts race deaths by filtering intent\n",
    "\n",
    "homicide_race_counts = {}\n",
    "for i,race in enumerate(races):\n",
    "    if intents[i] == \"Homicide\":\n",
    "        homicide_race_counts[race] += 1\n",
    "    else: \n",
    "        homicide_race_counts[race] = 1\n",
    "\n",
    "race_per_hundredk = {}\n",
    "for k,v in homicide_race_counts.items():\n",
    "    race_per_hundredk[k] = (v / mapping[k]) * 100000\n",
    "\n",
    "#race_per_hundredk"
   ]
  },
  {
   "cell_type": "markdown",
   "metadata": {},
   "source": [
    "# Challenges:\n",
    "\n",
    "1. Figure out the link, if any, between month and homicide rate.\n",
    "2. Explore the homicide rate by gender.\n",
    "3. Explore the rates of other intents, like Accidental, by gender and race.\n",
    "4. Find out if gun death rates correlate to location and education.\n"
   ]
  }
 ],
 "metadata": {
  "kernelspec": {
   "display_name": "Python 3",
   "language": "python",
   "name": "python3"
  },
  "language_info": {
   "codemirror_mode": {
    "name": "ipython",
    "version": 3
   },
   "file_extension": ".py",
   "mimetype": "text/x-python",
   "name": "python",
   "nbconvert_exporter": "python",
   "pygments_lexer": "ipython3",
   "version": "3.6.4"
  }
 },
 "nbformat": 4,
 "nbformat_minor": 2
}
